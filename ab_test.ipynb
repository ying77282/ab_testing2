{
 "cells": [
  {
   "cell_type": "raw",
   "id": "ea6bc68a-ec7c-4e9d-8228-adda5e1cde37",
   "metadata": {},
   "source": [
    "Formulating hypothesis\n",
    "\n",
    "Ho: p=po\n",
    "Ha: p is not equal to po\n",
    "\n",
    "Condifence level =0.95\n",
    "alpha =0.05\n",
    "\n",
    "\n",
    "For our test we'll need two groups:\r\n",
    " Independent Variable:\n",
    "\r\n",
    "A control group - They'll be shown the old design\r\n",
    "A treatment (or experimental) group - They'll be shown the new des\n",
    "\n",
    " Dependent Variable (i.e. what we are trying to measure):\n",
    "-capturing the conversion rate\n",
    "0 - The user did not buy the product during this user session\r\n",
    "1 - The user bought the product during this user sessio\n",
    "\n",
    "\n",
    "-sample size we need is estimated through something called Power analysis, and it depends on a few factor(i):\n",
    "\n",
    "~Power of the st ) - This represents the probability of finding a statistical difference between the groups in our test when a difference is actually present. This is usually set at 0.8 as a convento(ii))\n",
    "~\r\n",
    "Alphueval\r\n",
    ") - The critical value we set earlie o \n",
    "0(iii)\n",
    ".~05\r\n",
    "Effect size - How big of a difference we expect there to be between the conversion ratesnign"
   ]
  },
  {
   "cell_type": "code",
   "execution_count": 1,
   "id": "53e4f78f-65c8-4e33-a533-6c3e21699dc5",
   "metadata": {},
   "outputs": [],
   "source": [
    "import pandas as pd\n",
    "import matplotlib.pyplot as plt\n",
    "import scipy.stats as stats\n",
    "import statsmodels.stats.api as sms\n",
    "import numpy as np\n",
    "from math import ceil"
   ]
  },
  {
   "cell_type": "code",
   "execution_count": 2,
   "id": "036a6596-1d88-495c-badd-1f00ae837344",
   "metadata": {},
   "outputs": [
    {
     "data": {
      "text/html": [
       "<div>\n",
       "<style scoped>\n",
       "    .dataframe tbody tr th:only-of-type {\n",
       "        vertical-align: middle;\n",
       "    }\n",
       "\n",
       "    .dataframe tbody tr th {\n",
       "        vertical-align: top;\n",
       "    }\n",
       "\n",
       "    .dataframe thead th {\n",
       "        text-align: right;\n",
       "    }\n",
       "</style>\n",
       "<table border=\"1\" class=\"dataframe\">\n",
       "  <thead>\n",
       "    <tr style=\"text-align: right;\">\n",
       "      <th></th>\n",
       "      <th>user_id</th>\n",
       "      <th>timestamp</th>\n",
       "      <th>group</th>\n",
       "      <th>landing_page</th>\n",
       "      <th>converted</th>\n",
       "    </tr>\n",
       "  </thead>\n",
       "  <tbody>\n",
       "    <tr>\n",
       "      <th>0</th>\n",
       "      <td>851104</td>\n",
       "      <td>2017-01-21 22:11:48.556739</td>\n",
       "      <td>control</td>\n",
       "      <td>old_page</td>\n",
       "      <td>0</td>\n",
       "    </tr>\n",
       "    <tr>\n",
       "      <th>1</th>\n",
       "      <td>804228</td>\n",
       "      <td>2017-01-12 08:01:45.159739</td>\n",
       "      <td>control</td>\n",
       "      <td>old_page</td>\n",
       "      <td>0</td>\n",
       "    </tr>\n",
       "    <tr>\n",
       "      <th>2</th>\n",
       "      <td>661590</td>\n",
       "      <td>2017-01-11 16:55:06.154213</td>\n",
       "      <td>treatment</td>\n",
       "      <td>new_page</td>\n",
       "      <td>0</td>\n",
       "    </tr>\n",
       "    <tr>\n",
       "      <th>3</th>\n",
       "      <td>853541</td>\n",
       "      <td>2017-01-08 18:28:03.143765</td>\n",
       "      <td>treatment</td>\n",
       "      <td>new_page</td>\n",
       "      <td>0</td>\n",
       "    </tr>\n",
       "    <tr>\n",
       "      <th>4</th>\n",
       "      <td>864975</td>\n",
       "      <td>2017-01-21 01:52:26.210827</td>\n",
       "      <td>control</td>\n",
       "      <td>old_page</td>\n",
       "      <td>1</td>\n",
       "    </tr>\n",
       "    <tr>\n",
       "      <th>...</th>\n",
       "      <td>...</td>\n",
       "      <td>...</td>\n",
       "      <td>...</td>\n",
       "      <td>...</td>\n",
       "      <td>...</td>\n",
       "    </tr>\n",
       "    <tr>\n",
       "      <th>294473</th>\n",
       "      <td>751197</td>\n",
       "      <td>2017-01-03 22:28:38.630509</td>\n",
       "      <td>control</td>\n",
       "      <td>old_page</td>\n",
       "      <td>0</td>\n",
       "    </tr>\n",
       "    <tr>\n",
       "      <th>294474</th>\n",
       "      <td>945152</td>\n",
       "      <td>2017-01-12 00:51:57.078372</td>\n",
       "      <td>control</td>\n",
       "      <td>old_page</td>\n",
       "      <td>0</td>\n",
       "    </tr>\n",
       "    <tr>\n",
       "      <th>294475</th>\n",
       "      <td>734608</td>\n",
       "      <td>2017-01-22 11:45:03.439544</td>\n",
       "      <td>control</td>\n",
       "      <td>old_page</td>\n",
       "      <td>0</td>\n",
       "    </tr>\n",
       "    <tr>\n",
       "      <th>294476</th>\n",
       "      <td>697314</td>\n",
       "      <td>2017-01-15 01:20:28.957438</td>\n",
       "      <td>control</td>\n",
       "      <td>old_page</td>\n",
       "      <td>0</td>\n",
       "    </tr>\n",
       "    <tr>\n",
       "      <th>294477</th>\n",
       "      <td>715931</td>\n",
       "      <td>2017-01-16 12:40:24.467417</td>\n",
       "      <td>treatment</td>\n",
       "      <td>new_page</td>\n",
       "      <td>0</td>\n",
       "    </tr>\n",
       "  </tbody>\n",
       "</table>\n",
       "<p>294478 rows × 5 columns</p>\n",
       "</div>"
      ],
      "text/plain": [
       "        user_id                   timestamp      group landing_page  converted\n",
       "0        851104  2017-01-21 22:11:48.556739    control     old_page          0\n",
       "1        804228  2017-01-12 08:01:45.159739    control     old_page          0\n",
       "2        661590  2017-01-11 16:55:06.154213  treatment     new_page          0\n",
       "3        853541  2017-01-08 18:28:03.143765  treatment     new_page          0\n",
       "4        864975  2017-01-21 01:52:26.210827    control     old_page          1\n",
       "...         ...                         ...        ...          ...        ...\n",
       "294473   751197  2017-01-03 22:28:38.630509    control     old_page          0\n",
       "294474   945152  2017-01-12 00:51:57.078372    control     old_page          0\n",
       "294475   734608  2017-01-22 11:45:03.439544    control     old_page          0\n",
       "294476   697314  2017-01-15 01:20:28.957438    control     old_page          0\n",
       "294477   715931  2017-01-16 12:40:24.467417  treatment     new_page          0\n",
       "\n",
       "[294478 rows x 5 columns]"
      ]
     },
     "execution_count": 2,
     "metadata": {},
     "output_type": "execute_result"
    }
   ],
   "source": [
    "df=pd.read_csv(fr\"/Users/choyy/Documents/AB_testing/ab_1/ab_data.csv\")\n",
    "df"
   ]
  },
  {
   "cell_type": "code",
   "execution_count": 3,
   "id": "19a5b7d7-be27-4ba7-ac85-022811d18586",
   "metadata": {},
   "outputs": [
    {
     "name": "stdout",
     "output_type": "stream",
     "text": [
      "<class 'pandas.core.frame.DataFrame'>\n",
      "RangeIndex: 294478 entries, 0 to 294477\n",
      "Data columns (total 5 columns):\n",
      " #   Column        Non-Null Count   Dtype \n",
      "---  ------        --------------   ----- \n",
      " 0   user_id       294478 non-null  int64 \n",
      " 1   timestamp     294478 non-null  object\n",
      " 2   group         294478 non-null  object\n",
      " 3   landing_page  294478 non-null  object\n",
      " 4   converted     294478 non-null  int64 \n",
      "dtypes: int64(2), object(3)\n",
      "memory usage: 11.2+ MB\n"
     ]
    }
   ],
   "source": [
    "df.info()"
   ]
  },
  {
   "cell_type": "code",
   "execution_count": 4,
   "id": "bf930270-4b1b-4b43-b578-fe8c1dfd6639",
   "metadata": {},
   "outputs": [],
   "source": [
    "# can ignore since, it is small enough, which mean can remove\n",
    "\n",
    "duplicate=df.groupby('user_id').agg(count=('user_id','count')).reset_index()\n",
    "##.squeeze() → Converts the single-column DataFrame into a Pandas Series.\n",
    "duplicate = duplicate[duplicate['count'] > 1][['user_id']].squeeze().tolist()\n",
    "\n",
    "df=df[~df['user_id'].isin(duplicate)]\n"
   ]
  },
  {
   "cell_type": "code",
   "execution_count": 5,
   "id": "368ee98a-9884-46e1-b5bc-ae72774e4494",
   "metadata": {},
   "outputs": [],
   "source": [
    "control=df[df['group']=='control']\n",
    "treatment=df[df['group']=='treatment']\n",
    "\n"
   ]
  },
  {
   "cell_type": "code",
   "execution_count": 6,
   "id": "746cba3b-2a82-49fc-9565-09182756e023",
   "metadata": {},
   "outputs": [],
   "source": [
    "#0.13 and 0.15 represent proportion\n",
    "#Effect size measures the strength of the difference between these two proportions. \n",
    "#A larger effect size indicates a more significant difference between the two proportions\n",
    "# a difference of 2%, we can use 13% and 15% to calculate the effect size we expect.\n",
    "#use smaller values (like 0.06 and 0.08), you might not be able to detect small differences with a reasonable sample size,\n",
    "#especially if you're aiming for 80% power. \n",
    "effect_size = sms.proportion_effectsize(0.13, 0.15)    # Calculating effect size based on our expected rates"
   ]
  },
  {
   "cell_type": "code",
   "execution_count": 7,
   "id": "8257d26f-75dc-44e9-9d3e-6730a1108f4a",
   "metadata": {},
   "outputs": [
    {
     "name": "stdout",
     "output_type": "stream",
     "text": [
      "4720\n"
     ]
    }
   ],
   "source": [
    "# power=0.8 (80%) → This is the statistical power, meaning there's an 80% probability of detecting a true difference if one exists.\n",
    "\n",
    "# alpha=0.05 (5%) → This is the significance level (Type I error rate), meaning there's a 5% chance of incorrectly rejecting the null hypothesis when it's actually true.\n",
    "\n",
    "# ratio=1 → This means equal-sized groups (e.g., treatment and control groups have the same number of observations).\n",
    "\n",
    "\n",
    "required_n = sms.NormalIndPower().solve_power(\n",
    "    effect_size, \n",
    "    power=0.8, \n",
    "    alpha=0.05, \n",
    "    ratio=1\n",
    "    )                                                  # Calculating sample size needed\n",
    "\n",
    "required_n = ceil(required_n)                          # Rounding up to next whole number                          \n",
    "\n",
    "print(required_n)"
   ]
  },
  {
   "cell_type": "code",
   "execution_count": 8,
   "id": "c07baaa2-f622-4a21-8a7f-561e7e14c4db",
   "metadata": {},
   "outputs": [],
   "source": [
    "#extracting a random sample of a specific size (required_n) from the \"control\" group in a dataset.\n",
    "# random_state makes randomness deterministic (consistent output).\n",
    "# If multiple people are running tests, using a different random_state prevents them from getting the exact same results.\n",
    "#  can use 23, 24, or any number—it just changes the random seed\n",
    "\n",
    "control_sample = df[df['group'] == 'control'].sample(n=required_n, random_state=22)\n",
    "treatment_sample = df[df['group'] == 'treatment'].sample(n=required_n, random_state=22)\n",
    "\n",
    "\n",
    "ab_test=pd.concat([control_sample,treatment_sample])\n",
    "ab_test.reset_index(drop=True, inplace=True)"
   ]
  },
  {
   "cell_type": "code",
   "execution_count": 9,
   "id": "3ed7d170-77f5-475c-9114-14d98ed6795d",
   "metadata": {},
   "outputs": [
    {
     "data": {
      "text/plain": [
       "control      4720\n",
       "treatment    4720\n",
       "Name: group, dtype: int64"
      ]
     },
     "execution_count": 9,
     "metadata": {},
     "output_type": "execute_result"
    }
   ],
   "source": [
    "ab_test['group'].value_counts()"
   ]
  },
  {
   "cell_type": "code",
   "execution_count": 10,
   "id": "2ead6bbb-5d3a-4384-a0c7-0c053c4d38bb",
   "metadata": {},
   "outputs": [
    {
     "data": {
      "text/html": [
       "<div>\n",
       "<style scoped>\n",
       "    .dataframe tbody tr th:only-of-type {\n",
       "        vertical-align: middle;\n",
       "    }\n",
       "\n",
       "    .dataframe tbody tr th {\n",
       "        vertical-align: top;\n",
       "    }\n",
       "\n",
       "    .dataframe thead th {\n",
       "        text-align: right;\n",
       "    }\n",
       "</style>\n",
       "<table border=\"1\" class=\"dataframe\">\n",
       "  <thead>\n",
       "    <tr style=\"text-align: right;\">\n",
       "      <th></th>\n",
       "      <th>user_id</th>\n",
       "      <th>timestamp</th>\n",
       "      <th>group</th>\n",
       "      <th>landing_page</th>\n",
       "      <th>converted</th>\n",
       "    </tr>\n",
       "  </thead>\n",
       "  <tbody>\n",
       "    <tr>\n",
       "      <th>0</th>\n",
       "      <td>763854</td>\n",
       "      <td>2017-01-21 03:43:17.188315</td>\n",
       "      <td>control</td>\n",
       "      <td>old_page</td>\n",
       "      <td>0</td>\n",
       "    </tr>\n",
       "    <tr>\n",
       "      <th>1</th>\n",
       "      <td>690555</td>\n",
       "      <td>2017-01-18 06:38:13.079449</td>\n",
       "      <td>control</td>\n",
       "      <td>old_page</td>\n",
       "      <td>0</td>\n",
       "    </tr>\n",
       "    <tr>\n",
       "      <th>2</th>\n",
       "      <td>861520</td>\n",
       "      <td>2017-01-06 21:13:40.044766</td>\n",
       "      <td>control</td>\n",
       "      <td>old_page</td>\n",
       "      <td>0</td>\n",
       "    </tr>\n",
       "    <tr>\n",
       "      <th>3</th>\n",
       "      <td>630778</td>\n",
       "      <td>2017-01-05 16:42:36.995204</td>\n",
       "      <td>control</td>\n",
       "      <td>old_page</td>\n",
       "      <td>0</td>\n",
       "    </tr>\n",
       "    <tr>\n",
       "      <th>4</th>\n",
       "      <td>656634</td>\n",
       "      <td>2017-01-04 15:31:21.676130</td>\n",
       "      <td>control</td>\n",
       "      <td>old_page</td>\n",
       "      <td>0</td>\n",
       "    </tr>\n",
       "    <tr>\n",
       "      <th>...</th>\n",
       "      <td>...</td>\n",
       "      <td>...</td>\n",
       "      <td>...</td>\n",
       "      <td>...</td>\n",
       "      <td>...</td>\n",
       "    </tr>\n",
       "    <tr>\n",
       "      <th>9435</th>\n",
       "      <td>908512</td>\n",
       "      <td>2017-01-14 22:02:29.922674</td>\n",
       "      <td>treatment</td>\n",
       "      <td>new_page</td>\n",
       "      <td>0</td>\n",
       "    </tr>\n",
       "    <tr>\n",
       "      <th>9436</th>\n",
       "      <td>873211</td>\n",
       "      <td>2017-01-05 00:57:16.167151</td>\n",
       "      <td>treatment</td>\n",
       "      <td>new_page</td>\n",
       "      <td>0</td>\n",
       "    </tr>\n",
       "    <tr>\n",
       "      <th>9437</th>\n",
       "      <td>631276</td>\n",
       "      <td>2017-01-20 18:56:58.167809</td>\n",
       "      <td>treatment</td>\n",
       "      <td>new_page</td>\n",
       "      <td>0</td>\n",
       "    </tr>\n",
       "    <tr>\n",
       "      <th>9438</th>\n",
       "      <td>662301</td>\n",
       "      <td>2017-01-03 08:10:57.768806</td>\n",
       "      <td>treatment</td>\n",
       "      <td>new_page</td>\n",
       "      <td>0</td>\n",
       "    </tr>\n",
       "    <tr>\n",
       "      <th>9439</th>\n",
       "      <td>944623</td>\n",
       "      <td>2017-01-19 10:56:01.648653</td>\n",
       "      <td>treatment</td>\n",
       "      <td>new_page</td>\n",
       "      <td>1</td>\n",
       "    </tr>\n",
       "  </tbody>\n",
       "</table>\n",
       "<p>9440 rows × 5 columns</p>\n",
       "</div>"
      ],
      "text/plain": [
       "      user_id                   timestamp      group landing_page  converted\n",
       "0      763854  2017-01-21 03:43:17.188315    control     old_page          0\n",
       "1      690555  2017-01-18 06:38:13.079449    control     old_page          0\n",
       "2      861520  2017-01-06 21:13:40.044766    control     old_page          0\n",
       "3      630778  2017-01-05 16:42:36.995204    control     old_page          0\n",
       "4      656634  2017-01-04 15:31:21.676130    control     old_page          0\n",
       "...       ...                         ...        ...          ...        ...\n",
       "9435   908512  2017-01-14 22:02:29.922674  treatment     new_page          0\n",
       "9436   873211  2017-01-05 00:57:16.167151  treatment     new_page          0\n",
       "9437   631276  2017-01-20 18:56:58.167809  treatment     new_page          0\n",
       "9438   662301  2017-01-03 08:10:57.768806  treatment     new_page          0\n",
       "9439   944623  2017-01-19 10:56:01.648653  treatment     new_page          1\n",
       "\n",
       "[9440 rows x 5 columns]"
      ]
     },
     "execution_count": 10,
     "metadata": {},
     "output_type": "execute_result"
    }
   ],
   "source": [
    "ab_test\n"
   ]
  },
  {
   "cell_type": "code",
   "execution_count": 11,
   "id": "7b692eaf-2243-435e-b5aa-5dce24b765ff",
   "metadata": {},
   "outputs": [
    {
     "data": {
      "text/html": [
       "<style type=\"text/css\">\n",
       "</style>\n",
       "<table id=\"T_0b15b\">\n",
       "  <thead>\n",
       "    <tr>\n",
       "      <th class=\"blank level0\" >&nbsp;</th>\n",
       "      <th id=\"T_0b15b_level0_col0\" class=\"col_heading level0 col0\" >conversion_rate</th>\n",
       "      <th id=\"T_0b15b_level0_col1\" class=\"col_heading level0 col1\" >std_deviation</th>\n",
       "      <th id=\"T_0b15b_level0_col2\" class=\"col_heading level0 col2\" >std_error</th>\n",
       "    </tr>\n",
       "    <tr>\n",
       "      <th class=\"index_name level0\" >group</th>\n",
       "      <th class=\"blank col0\" >&nbsp;</th>\n",
       "      <th class=\"blank col1\" >&nbsp;</th>\n",
       "      <th class=\"blank col2\" >&nbsp;</th>\n",
       "    </tr>\n",
       "  </thead>\n",
       "  <tbody>\n",
       "    <tr>\n",
       "      <th id=\"T_0b15b_level0_row0\" class=\"row_heading level0 row0\" >control</th>\n",
       "      <td id=\"T_0b15b_row0_col0\" class=\"data row0 col0\" >0.123</td>\n",
       "      <td id=\"T_0b15b_row0_col1\" class=\"data row0 col1\" >0.329</td>\n",
       "      <td id=\"T_0b15b_row0_col2\" class=\"data row0 col2\" >0.005</td>\n",
       "    </tr>\n",
       "    <tr>\n",
       "      <th id=\"T_0b15b_level0_row1\" class=\"row_heading level0 row1\" >treatment</th>\n",
       "      <td id=\"T_0b15b_row1_col0\" class=\"data row1 col0\" >0.126</td>\n",
       "      <td id=\"T_0b15b_row1_col1\" class=\"data row1 col1\" >0.331</td>\n",
       "      <td id=\"T_0b15b_row1_col2\" class=\"data row1 col2\" >0.005</td>\n",
       "    </tr>\n",
       "  </tbody>\n",
       "</table>\n"
      ],
      "text/plain": [
       "<pandas.io.formats.style.Styler at 0x26757924e50>"
      ]
     },
     "execution_count": 11,
     "metadata": {},
     "output_type": "execute_result"
    }
   ],
   "source": [
    "#  visualize\n",
    "\n",
    "conversion_rates = ab_test.groupby('group')['converted']\n",
    "\n",
    "std_p = lambda x: np.std(x, ddof=0)              # Std. deviation of the proportion\n",
    "se_p = lambda x: stats.sem(x, ddof=0)            # Std. error of the proportion (std / sqrt(n))\n",
    "\n",
    "conversion_rates = conversion_rates.agg([np.mean, std_p, se_p])\n",
    "conversion_rates.columns = ['conversion_rate', 'std_deviation', 'std_error']\n",
    "\n",
    "\n",
    "conversion_rates.style.format('{:.3f}')"
   ]
  },
  {
   "cell_type": "code",
   "execution_count": 12,
   "id": "ee1e9ad6-3fd8-4bf8-8963-bf15cf0c01dd",
   "metadata": {},
   "outputs": [
    {
     "data": {
      "text/html": [
       "<style type=\"text/css\">\n",
       "</style>\n",
       "<table id=\"T_3a896\">\n",
       "  <thead>\n",
       "    <tr>\n",
       "      <th class=\"blank level0\" >&nbsp;</th>\n",
       "      <th id=\"T_3a896_level0_col0\" class=\"col_heading level0 col0\" >conversion_rate</th>\n",
       "      <th id=\"T_3a896_level0_col1\" class=\"col_heading level0 col1\" >std_deviation</th>\n",
       "      <th id=\"T_3a896_level0_col2\" class=\"col_heading level0 col2\" >std_error</th>\n",
       "    </tr>\n",
       "    <tr>\n",
       "      <th class=\"index_name level0\" >group</th>\n",
       "      <th class=\"blank col0\" >&nbsp;</th>\n",
       "      <th class=\"blank col1\" >&nbsp;</th>\n",
       "      <th class=\"blank col2\" >&nbsp;</th>\n",
       "    </tr>\n",
       "  </thead>\n",
       "  <tbody>\n",
       "    <tr>\n",
       "      <th id=\"T_3a896_level0_row0\" class=\"row_heading level0 row0\" >control</th>\n",
       "      <td id=\"T_3a896_row0_col0\" class=\"data row0 col0\" >0.123</td>\n",
       "      <td id=\"T_3a896_row0_col1\" class=\"data row0 col1\" >0.329</td>\n",
       "      <td id=\"T_3a896_row0_col2\" class=\"data row0 col2\" >0.005</td>\n",
       "    </tr>\n",
       "    <tr>\n",
       "      <th id=\"T_3a896_level0_row1\" class=\"row_heading level0 row1\" >treatment</th>\n",
       "      <td id=\"T_3a896_row1_col0\" class=\"data row1 col0\" >0.126</td>\n",
       "      <td id=\"T_3a896_row1_col1\" class=\"data row1 col1\" >0.331</td>\n",
       "      <td id=\"T_3a896_row1_col2\" class=\"data row1 col2\" >0.005</td>\n",
       "    </tr>\n",
       "  </tbody>\n",
       "</table>\n"
      ],
      "text/plain": [
       "<pandas.io.formats.style.Styler at 0x26762068cd0>"
      ]
     },
     "execution_count": 12,
     "metadata": {},
     "output_type": "execute_result"
    }
   ],
   "source": [
    "\n",
    "# cannot directly pass np.std or stats.sem without using lambda or defining a separate function,\n",
    "#because these functions require additional parameters (ddof=0).\n",
    "\n",
    "conversion_rates = ab_test.groupby('group').agg(\n",
    "    conversion_rate=('converted', 'mean'),   # Mean conversion rate\n",
    "    std_deviation=('converted', lambda x: np.std(x, ddof=0)),  # Standard deviation\n",
    "    std_error=('converted', lambda x: stats.sem(x, ddof=0))  # Standard error, ddof=0 ensures we calculate the population standard deviation,\n",
    ")\n",
    "\n",
    "conversion_rates=conversion_rates.style.format('{:.3f}')\n",
    "conversion_rates"
   ]
  },
  {
   "cell_type": "code",
   "execution_count": 13,
   "id": "6cc9d2a8-ddc8-408d-87f5-63cf7fdda28b",
   "metadata": {},
   "outputs": [
    {
     "name": "stderr",
     "output_type": "stream",
     "text": [
      "C:\\Users\\choyy\\AppData\\Local\\Temp\\ipykernel_7772\\1518086846.py:5: FutureWarning: \n",
      "\n",
      "The `ci` parameter is deprecated. Use `errorbar=('ci', False)` for the same effect.\n",
      "\n",
      "  sns.barplot(x=ab_test['group'], y=ab_test['converted'], ci=False)\n"
     ]
    },
    {
     "data": {
      "image/png": "[encoded data removed]",
      "text/plain": [
       "<Figure size 800x600 with 1 Axes>"
      ]
     },
     "metadata": {},
     "output_type": "display_data"
    }
   ],
   "source": [
    "\n",
    "import seaborn as sns\n",
    "plt.figure(figsize=(8,6))\n",
    "\n",
    "# Disables confidence intervals (by default, Seaborn plots confidence intervals based on the standard error (ci)\n",
    "sns.barplot(x=ab_test['group'], y=ab_test['converted'], ci=False)\n",
    "\n",
    "plt.ylim(0, 0.17)\n",
    "plt.title('Conversion rate by group', pad=20)\n",
    "plt.xlabel('Group', labelpad=15)\n",
    "plt.ylabel('Converted (proportion)', labelpad=15);"
   ]
  },
  {
   "cell_type": "code",
   "execution_count": 14,
   "id": "85ac99bb-9091-4287-998c-5a16d7805b2a",
   "metadata": {},
   "outputs": [
    {
     "data": {
      "image/png": "[encoded data removed]",
      "text/plain": [
       "<Figure size 640x480 with 1 Axes>"
      ]
     },
     "metadata": {},
     "output_type": "display_data"
    }
   ],
   "source": [
    "\n",
    "\n",
    "#  include confidenc interval\n",
    "sns.barplot(x=ab_test['group'], y=ab_test['converted'])\n",
    "\n",
    "plt.ylim(0, 0.17)\n",
    "plt.title('Conversion rate by group', pad=20)\n",
    "plt.xlabel('Group', labelpad=15)\n",
    "plt.ylabel('Converted (proportion)', labelpad=15);"
   ]
  },
  {
   "cell_type": "code",
   "execution_count": 19,
   "id": "afbd08dc-1742-4eb0-9877-92f9253ec4b2",
   "metadata": {},
   "outputs": [
    {
     "name": "stdout",
     "output_type": "stream",
     "text": [
      "z statistic: -0.34\n",
      "p-value: 0.732\n",
      "ci 95% for control group: [0.114, 0.133]\n",
      "ci 95% for treatment group: [0.116, 0.135]\n"
     ]
    }
   ],
   "source": [
    "#  testing\n",
    "# proportions_ztest-Performs a Z-test for proportions.\n",
    "#proportion_confint-Calculates the confidence interval (CI) for a proportion.\n",
    "from statsmodels.stats.proportion import proportions_ztest, proportion_confint\n",
    "\n",
    "# identify the converted for the control and treatment group\n",
    "control_results = ab_test[ab_test['group'] == 'control']['converted']\n",
    "treatment_results = ab_test[ab_test['group'] == 'treatment']['converted']\n",
    "\n",
    "n_con = control_results.count()\n",
    "n_treat = treatment_results.count()\n",
    "successes = [control_results.sum(), treatment_results.sum()]\n",
    "nobs = [n_con, n_treat]\n",
    "\n",
    "#  fix formula\n",
    "# Make sure successes and nobs are lists/arrays of two values (one for control, one for treatment).\n",
    "z_stat, pval = proportions_ztest(successes, nobs=nobs)\n",
    "(lower_con, lower_treat), (upper_con, upper_treat) = proportion_confint(successes, nobs=nobs, alpha=0.05)\n",
    "print(f'z statistic: {z_stat:.2f}')\n",
    "print(f'p-value: {pval:.3f}')\n",
    "print(f'ci 95% for control group: [{lower_con:.3f}, {upper_con:.3f}]')\n",
    "print(f'ci 95% for treatment group: [{lower_treat:.3f}, {upper_treat:.3f}]')"
   ]
  },
  {
   "cell_type": "markdown",
   "id": "5123a753-cddf-4c9c-ad43-6c66ce88d9ff",
   "metadata": {},
   "source": [
    "Conclusion:\n",
    "\n",
    "Since p-value is more than the alpha value , 0.05. It does not reject the null hypothesis. It can be concluded that the new design is not significantly different than new design.\n",
    "\n",
    "(b)\n",
    "Looking for the confidence interval:\n",
    "- 1. It includes our baseline value of 13% conversion rate\n",
    "  2. It does not include our target value of 15% (the 2% uplift we were aiming for)\n",
    " \n",
    "- it is more likely that the true conversion rate of the new design is similar to our baseline, rather than the 15% target we had hoped for\n"
   ]
  }
 ],
 "metadata": {
  "kernelspec": {
   "display_name": "Python 3 (ipykernel)",
   "language": "python",
   "name": "python3"
  },
  "language_info": {
   "codemirror_mode": {
    "name": "ipython",
    "version": 3
   },
   "file_extension": ".py",
   "mimetype": "text/x-python",
   "name": "python",
   "nbconvert_exporter": "python",
   "pygments_lexer": "ipython3",
   "version": "3.11.7"
  }
 },
 "nbformat": 4,
 "nbformat_minor": 5
}
